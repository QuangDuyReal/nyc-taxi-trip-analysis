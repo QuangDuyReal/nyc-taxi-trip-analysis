{
 "cells": [
  {
   "cell_type": "code",
   "execution_count": 1,
   "id": "4a66c50b",
   "metadata": {},
   "outputs": [
    {
     "name": "stdout",
     "output_type": "stream",
     "text": [
      "SparkSession created successfully!\n"
     ]
    }
   ],
   "source": [
    "from pyspark.sql import SparkSession\n",
    "\n",
    "spark = SparkSession.builder \\\n",
    "    .appName(\"Initial Data Exploration\") \\\n",
    "    .getOrCreate()\n",
    "\n",
    "print(\"SparkSession created successfully!\")"
   ]
  },
  {
   "cell_type": "code",
   "execution_count": 2,
   "id": "fc98951e",
   "metadata": {},
   "outputs": [
    {
     "name": "stdout",
     "output_type": "stream",
     "text": [
      "Data loaded successfully.\n"
     ]
    }
   ],
   "source": [
    "data_path = \"../data/raw/yellow_tripdata_2024-01.parquet\"\n",
    "\n",
    "df = spark.read.parquet(data_path)\n",
    "\n",
    "print(\"Data loaded successfully.\")"
   ]
  },
  {
   "cell_type": "code",
   "execution_count": 3,
   "id": "409154b8",
   "metadata": {},
   "outputs": [
    {
     "name": "stdout",
     "output_type": "stream",
     "text": [
      "DataFrame Schema:\n",
      "root\n",
      " |-- VendorID: integer (nullable = true)\n",
      " |-- tpep_pickup_datetime: timestamp_ntz (nullable = true)\n",
      " |-- tpep_dropoff_datetime: timestamp_ntz (nullable = true)\n",
      " |-- passenger_count: long (nullable = true)\n",
      " |-- trip_distance: double (nullable = true)\n",
      " |-- RatecodeID: long (nullable = true)\n",
      " |-- store_and_fwd_flag: string (nullable = true)\n",
      " |-- PULocationID: integer (nullable = true)\n",
      " |-- DOLocationID: integer (nullable = true)\n",
      " |-- payment_type: long (nullable = true)\n",
      " |-- fare_amount: double (nullable = true)\n",
      " |-- extra: double (nullable = true)\n",
      " |-- mta_tax: double (nullable = true)\n",
      " |-- tip_amount: double (nullable = true)\n",
      " |-- tolls_amount: double (nullable = true)\n",
      " |-- improvement_surcharge: double (nullable = true)\n",
      " |-- total_amount: double (nullable = true)\n",
      " |-- congestion_surcharge: double (nullable = true)\n",
      " |-- Airport_fee: double (nullable = true)\n",
      "\n"
     ]
    }
   ],
   "source": [
    "print(\"DataFrame Schema:\")\n",
    "df.printSchema()"
   ]
  },
  {
   "cell_type": "code",
   "execution_count": 4,
   "id": "e6bbcccb",
   "metadata": {},
   "outputs": [
    {
     "name": "stdout",
     "output_type": "stream",
     "text": [
      "Sample data:\n",
      "+--------+--------------------+---------------------+---------------+-------------+----------+------------------+------------+------------+------------+-----------+-----+-------+----------+------------+---------------------+------------+--------------------+-----------+\n",
      "|VendorID|tpep_pickup_datetime|tpep_dropoff_datetime|passenger_count|trip_distance|RatecodeID|store_and_fwd_flag|PULocationID|DOLocationID|payment_type|fare_amount|extra|mta_tax|tip_amount|tolls_amount|improvement_surcharge|total_amount|congestion_surcharge|Airport_fee|\n",
      "+--------+--------------------+---------------------+---------------+-------------+----------+------------------+------------+------------+------------+-----------+-----+-------+----------+------------+---------------------+------------+--------------------+-----------+\n",
      "|2       |2024-01-01 00:57:55 |2024-01-01 01:17:43  |1              |1.72         |1         |N                 |186         |79          |2           |17.7       |1.0  |0.5    |0.0       |0.0         |1.0                  |22.7        |2.5                 |0.0        |\n",
      "|1       |2024-01-01 00:03:00 |2024-01-01 00:09:36  |1              |1.8          |1         |N                 |140         |236         |1           |10.0       |3.5  |0.5    |3.75      |0.0         |1.0                  |18.75       |2.5                 |0.0        |\n",
      "|1       |2024-01-01 00:17:06 |2024-01-01 00:35:01  |1              |4.7          |1         |N                 |236         |79          |1           |23.3       |3.5  |0.5    |3.0       |0.0         |1.0                  |31.3        |2.5                 |0.0        |\n",
      "|1       |2024-01-01 00:36:38 |2024-01-01 00:44:56  |1              |1.4          |1         |N                 |79          |211         |1           |10.0       |3.5  |0.5    |2.0       |0.0         |1.0                  |17.0        |2.5                 |0.0        |\n",
      "|1       |2024-01-01 00:46:51 |2024-01-01 00:52:57  |1              |0.8          |1         |N                 |211         |148         |1           |7.9        |3.5  |0.5    |3.2       |0.0         |1.0                  |16.1        |2.5                 |0.0        |\n",
      "+--------+--------------------+---------------------+---------------+-------------+----------+------------------+------------+------------+------------+-----------+-----+-------+----------+------------+---------------------+------------+--------------------+-----------+\n",
      "only showing top 5 rows\n",
      "\n"
     ]
    }
   ],
   "source": [
    "print(\"Sample data:\")\n",
    "df.show(5, truncate=False)"
   ]
  },
  {
   "cell_type": "code",
   "execution_count": 5,
   "id": "76b799fa",
   "metadata": {},
   "outputs": [
    {
     "name": "stdout",
     "output_type": "stream",
     "text": [
      "Total number of records: 2964624\n",
      "Descriptive statistics:\n",
      "+-------+------------------+------------------+------------------+------------------+\n",
      "|summary|   passenger_count|     trip_distance|       fare_amount|      total_amount|\n",
      "+-------+------------------+------------------+------------------+------------------+\n",
      "|  count|           2824462|           2964624|           2964624|           2964624|\n",
      "|   mean|1.3392808966805005|3.6521691789583146|18.175061916791037|26.801504770952707|\n",
      "| stddev|0.8502816924800847|225.46257238220082| 18.94954770590526|23.385577429672516|\n",
      "|    min|                 0|               0.0|            -899.0|            -900.0|\n",
      "|    max|                 9|          312722.3|            5000.0|            5000.0|\n",
      "+-------+------------------+------------------+------------------+------------------+\n",
      "\n"
     ]
    }
   ],
   "source": [
    "total_records = df.count()\n",
    "print(f\"Total number of records: {total_records}\")\n",
    "\n",
    "print(\"Descriptive statistics:\")\n",
    "df.describe(['passenger_count', 'trip_distance', 'fare_amount', 'total_amount']).show()"
   ]
  }
 ],
 "metadata": {
  "kernelspec": {
   "display_name": "Python 3",
   "language": "python",
   "name": "python3"
  },
  "language_info": {
   "codemirror_mode": {
    "name": "ipython",
    "version": 3
   },
   "file_extension": ".py",
   "mimetype": "text/x-python",
   "name": "python",
   "nbconvert_exporter": "python",
   "pygments_lexer": "ipython3",
   "version": "3.13.2"
  }
 },
 "nbformat": 4,
 "nbformat_minor": 5
}
